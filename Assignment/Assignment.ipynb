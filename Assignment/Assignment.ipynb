{
 "cells": [
  {
   "attachments": {},
   "cell_type": "markdown",
   "metadata": {},
   "source": [
    "# Data Analysis of \"Value for money\" flats\n",
    "\n",
    "Name: Bryan Lim Heng Yi\n",
    "\n",
    "Admin Number: P2204314\n",
    "\n",
    "Diploma: Diploma in Computer Engineering\n",
    "\n",
    "Class: DCPE/FT/2B/21\n",
    "\n",
    "Module Class: EL/03\n"
   ]
  },
  {
   "attachments": {},
   "cell_type": "markdown",
   "metadata": {},
   "source": [
    "# Imports (Libraries)"
   ]
  },
  {
   "cell_type": "code",
   "execution_count": null,
   "metadata": {},
   "outputs": [],
   "source": [
    "import numpy as np\n",
    "import matplotlib.pyplot as plt\n",
    "import matplotlib.colors as mc\n",
    "from tabulate import tabulate"
   ]
  },
  {
   "attachments": {},
   "cell_type": "markdown",
   "metadata": {},
   "source": [
    "# Data Sets\n"
   ]
  },
  {
   "cell_type": "code",
   "execution_count": 14,
   "metadata": {},
   "outputs": [
    {
     "name": "stdout",
     "output_type": "stream",
     "text": [
      "month       town        flat_type      block  street_name        storey_range      floor_area_sqm  flat_model        lease_commence_date  remaining_lease       resale_price\n",
      "----------  ----------  -----------  -------  -----------------  --------------  ----------------  --------------  ---------------------  ------------------  --------------\n",
      "2017-01-01  ANG MO KIO  2 ROOM           406  ANG MO KIO AVE 10  10 TO 12                      44  Improved                         1979  61 years 04 months          232000\n",
      "2017-01-01  ANG MO KIO  3 ROOM           108  ANG MO KIO AVE 4   01 TO 03                      67  New Generation                   1978  60 years 07 months          250000\n",
      "2017-01-01  ANG MO KIO  3 ROOM           602  ANG MO KIO AVE 5   01 TO 03                      67  New Generation                   1980  62 years 05 months          262000\n",
      "2017-01-01  ANG MO KIO  3 ROOM           465  ANG MO KIO AVE 10  04 TO 06                      68  New Generation                   1980  62 years 01 month           265000\n",
      "2017-01-01  ANG MO KIO  3 ROOM           601  ANG MO KIO AVE 5   01 TO 03                      67  New Generation                   1980  62 years 05 months          265000 \n",
      "\n",
      "quarter    town        flat_type      median_rent\n",
      "---------  ----------  -----------  -------------\n",
      "2005-Q2    ANG MO KIO  1-RM                     0\n",
      "2005-Q2    ANG MO KIO  2-RM                     0\n",
      "2005-Q2    ANG MO KIO  3-RM                   800\n",
      "2005-Q2    ANG MO KIO  4-RM                   950\n",
      "2005-Q2    ANG MO KIO  5-RM                     0 \n",
      "\n",
      "  blk_no  street               max_floor_lvl    year_completed  residential    commercial    market_hawker    miscellaneous    multistorey_carpark    precinct_pavilion    bldg_contract_town      total_dwelling_units    1room_sold    2room_sold    3room_sold    4room_sold    5room_sold    exec_sold    multigen_sold    studio_apartment_sold    1room_rental    2room_rental    3room_rental    other_room_rental\n",
      "--------  -----------------  ---------------  ----------------  -------------  ------------  ---------------  ---------------  ---------------------  -------------------  --------------------  ----------------------  ------------  ------------  ------------  ------------  ------------  -----------  ---------------  -----------------------  --------------  --------------  --------------  -------------------\n",
      "       1  BEACH RD                        16              1970  Y              Y             N                N                N                      N                    KWN                                      142             0             1           138             1             2            0                0                        0               0               0               0                    0\n",
      "       1  BEDOK STH AVE 1                 14              1975  Y              N             N                Y                N                      N                    BD                                       206             0             0           204             0             2            0                0                        0               0               0               0                    0\n",
      "       1  CANTONMENT RD                    2              2010  N              Y             N                N                N                      N                    CT                                         0             0             0             0             0             0            0                0                        0               0               0               0                    0\n",
      "       1  CHAI CHEE RD                    15              1982  Y              N             N                N                N                      N                    BD                                       102             0             0             0            10            92            0                0                        0               0               0               0                    0\n",
      "       1  CHANGI VILLAGE RD                4              1975  Y              Y             N                N                N                      N                    PRC                                       55             0             0            54             0             1            0                0                        0               0               0               0                    0 \n",
      "\n"
     ]
    }
   ],
   "source": [
    "# genfromtext used to read csv file\n",
    "\n",
    "# Resale Flat Prices from year 2017 onwards [https://data.gov.sg/dataset/resale-flat-prices]\n",
    "resale_price = \"resale-flat-prices-based-on-registration-date-from-jan-2017-onwards.csv\"\n",
    "data_sale = np.genfromtxt(resale_price,dtype=['datetime64[D]','U15','U9','U4','U20','U20',int,'U20',int,'U50',int],\n",
    "                      delimiter=',', names=True, missing_values=['na'],filling_values=0)\n",
    "print(tabulate(data_sale[:5],headers=data_sale.dtype.names),\"\\n\")\n",
    "\n",
    "# Median Rent by Town and Flat Type [https://data.gov.sg/dataset/median-rent-by-town-and-flat-type]\n",
    "rental_price = \"median-rent-by-town-and-flat-type.csv\"\n",
    "data_rent = np.genfromtxt(rental_price,dtype=['U7', 'U20', 'U5', int],\n",
    "                      delimiter=',',names=True, missing_values=['na', '-'], filling_values=0)\n",
    "print(tabulate(data_rent[:5],headers=data_rent.dtype.names),\"\\n\")\n",
    "\n",
    "# HDB Property Information [https://data.gov.sg/dataset/hdb-property-information]\n",
    "info = \"hdb-property-information.csv\"\n",
    "data_info = np.genfromtxt(info,dtype=['U4','U50',int,int,'U1','U1','U1','U1','U1','U1','U3',int,int,int,int,int,int,int,int,int,int,int,int,int],\n",
    "                          delimiter=',',names=True, missing_values=['na'],filling_values=0) \n",
    "print(tabulate(data_info[:5],headers=data_info.dtype.names),\"\\n\")"
   ]
  },
  {
   "attachments": {},
   "cell_type": "markdown",
   "metadata": {},
   "source": [
    "# Dictionary for Data\n"
   ]
  },
  {
   "cell_type": "code",
   "execution_count": null,
   "metadata": {},
   "outputs": [],
   "source": [
    "# Dictionary for town for data_info\n",
    "town = {\n",
    "    \"AMK\" : \"Ang Mo Kio\",\n",
    "    \"BB\" : \"Bukit Batok\",\n",
    "    \"BD\" : \"Bedok\",\n",
    "    \"BH\" : \"Bishan\",\n",
    "    \"BM\" : \"Bukit Merah\",\n",
    "    \"BP\" : \"Bukit Panjang\",\n",
    "    \"BT\" : \"Bukit Timah\",\n",
    "    \"CCK\" : \"Choa Chu Kang\",\n",
    "    \"CL\" : \"Clementi\",\n",
    "    \"CT\" : \"Central Area\",\n",
    "    \"GL\" : \"Geylang\",\n",
    "    \"HG\" : \"Hougang\",\n",
    "    \"JE\" : \"Jurong East\",\n",
    "    \"JW\" : \"Jurong West\",\n",
    "    \"KWN\" : \"Kallang/Whampoa\",\n",
    "    \"MP\" : \"Marine Parade\",\n",
    "    \"PG\" : \"Punggol\",\n",
    "    \"PRC\" : \"Pasir Ris\",\n",
    "    \"QT\" : \"Queenstown\",\n",
    "    \"SB\" : \"Sembawang\",\n",
    "    \"SGN\" : \"Serangoon\",\n",
    "    \"SK\" : \"Sengkang\",\n",
    "    \"TAP\" : \"Tampines\",\n",
    "    \"TG\" : \"Tengah\",\n",
    "    \"TP\" : \"Toa Payoh\",\n",
    "    \"WL\" : \"Woodlands\",\n",
    "    \"YS\" : \"Yishun\", \n",
    "}"
   ]
  },
  {
   "attachments": {},
   "cell_type": "markdown",
   "metadata": {},
   "source": [
    "# Analysis: Dataset 1 [Resale Price]"
   ]
  },
  {
   "cell_type": "code",
   "execution_count": 19,
   "metadata": {},
   "outputs": [
    {
     "name": "stdout",
     "output_type": "stream",
     "text": [
      "There are 154511 rows and 11 columns in this dataset.\n",
      "\n",
      "The names of the data are ('month', 'town', 'flat_type', 'block', 'street_name', 'storey_range', 'floor_area_sqm', 'flat_model', 'lease_commence_date', 'remaining_lease', 'resale_price')\n",
      "\n",
      "This dataset spans 77 over 7 years.\n",
      "\n"
     ]
    }
   ],
   "source": [
    "print(f\"There are {len(data_sale)} rows and {len(data_sale[0])} columns in this dataset.\\n\")\n",
    "print(f\"The names of the data are {data_sale.dtype.names}\\n\")\n",
    "print(f\"This dataset spans {len(np.unique(data_sale['month']))} over 7 years.\\n\")"
   ]
  }
 ],
 "metadata": {
  "kernelspec": {
   "display_name": "Python 3",
   "language": "python",
   "name": "python3"
  },
  "language_info": {
   "codemirror_mode": {
    "name": "ipython",
    "version": 3
   },
   "file_extension": ".py",
   "mimetype": "text/x-python",
   "name": "python",
   "nbconvert_exporter": "python",
   "pygments_lexer": "ipython3",
   "version": "3.10.6"
  },
  "orig_nbformat": 4
 },
 "nbformat": 4,
 "nbformat_minor": 2
}
