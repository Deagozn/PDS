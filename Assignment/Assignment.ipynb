{
 "cells": [
  {
   "attachments": {},
   "cell_type": "markdown",
   "metadata": {},
   "source": [
    "# Data Analysis of \"Value for money\" flats\n",
    "\n",
    "Name: Bryan Lim Heng Yi\n",
    "\n",
    "Admin Number: P2204314\n",
    "\n",
    "Diploma: Diploma in Computer Engineering\n",
    "\n",
    "Class: DCPE/FT/2B/21\n",
    "\n",
    "Module Class: EL/03\n"
   ]
  },
  {
   "attachments": {},
   "cell_type": "markdown",
   "metadata": {},
   "source": [
    "# Imports (Libraries)"
   ]
  },
  {
   "cell_type": "code",
   "execution_count": null,
   "metadata": {},
   "outputs": [],
   "source": [
    "import numpy as np\n",
    "import matplotlib.pyplot as plt\n",
    "import matplotlib.colors as mc\n",
    "from tabulate import tabulate"
   ]
  },
  {
   "attachments": {},
   "cell_type": "markdown",
   "metadata": {},
   "source": [
    "# Data Sets\n"
   ]
  },
  {
   "cell_type": "code",
   "execution_count": null,
   "metadata": {},
   "outputs": [],
   "source": [
    "# genfromtext used to read csv file\n",
    "\n",
    "# Resale Flat Prices from year 2017 onwards [https://data.gov.sg/dataset/resale-flat-prices]\n",
    "resale_price = \"resale-flat-prices-based-on-registration-date-from-jan-2017-onwards.csv\"\n",
    "data_sale = np.genfromtxt(resale_price,dtype=['datetime64[D]','U15','U9','U4','U20','U20',int,'U20',int,'U50',int],\n",
    "                      delimiter=',', names=True, missing_values=['na'],filling_values=0)\n",
    "print(tabulate(data_sale[:5],headers=data_sale.dtype.names),\"\\n\")\n",
    "\n",
    "# Median Rent by Town and Flat Type [https://data.gov.sg/dataset/median-rent-by-town-and-flat-type]\n",
    "rental_price = \"median-rent-by-town-and-flat-type.csv\"\n",
    "data_rent = np.genfromtxt(rental_price,dtype=['U7', 'U20', 'U5', int],\n",
    "                      delimiter=',',names=True, missing_values=['na', '-'], filling_values=0)\n",
    "print(tabulate(data_rent[:5],headers=data_rent.dtype.names),\"\\n\")\n",
    "\n",
    "# HDB Property Information [https://data.gov.sg/dataset/hdb-property-information]\n",
    "info = \"hdb-property-information.csv\"\n",
    "data_info = np.genfromtxt(info,dtype=['U4','U50',int,int,'U1','U1','U1','U1','U1','U1','U3',int,int,int,int,int,int,int,int,int,int,int,int,int],\n",
    "                          delimiter=',',names=True, missing_values=['na'],filling_values=0) \n",
    "print(tabulate(data_info[:5],headers=data_info.dtype.names),\"\\n\")"
   ]
  },
  {
   "attachments": {},
   "cell_type": "markdown",
   "metadata": {},
   "source": [
    "# Dictionary for Data\n"
   ]
  },
  {
   "cell_type": "code",
   "execution_count": null,
   "metadata": {},
   "outputs": [],
   "source": [
    "# Dictionary for town for data_info\n",
    "town = {\n",
    "    \"AMK\" : \"Ang Mo Kio\",\n",
    "    \"BB\" : \"Bukit Batok\",\n",
    "    \"BD\" : \"Bedok\",\n",
    "    \"BH\" : \"Bishan\",\n",
    "    \"BM\" : \"Bukit Merah\",\n",
    "    \"BP\" : \"Bukit Panjang\",\n",
    "    \"BT\" : \"Bukit Timah\",\n",
    "    \"CCK\" : \"Choa Chu Kang\",\n",
    "    \"CL\" : \"Clementi\",\n",
    "    \"CT\" : \"Central Area\",\n",
    "    \"GL\" : \"Geylang\",\n",
    "    \"HG\" : \"Hougang\",\n",
    "    \"JE\" : \"Jurong East\",\n",
    "    \"JW\" : \"Jurong West\",\n",
    "    \"KWN\" : \"Kallang/Whampoa\",\n",
    "    \"MP\" : \"Marine Parade\",\n",
    "    \"PG\" : \"Punggol\",\n",
    "    \"PRC\" : \"Pasir Ris\",\n",
    "    \"QT\" : \"Queenstown\",\n",
    "    \"SB\" : \"Sembawang\",\n",
    "    \"SGN\" : \"Serangoon\",\n",
    "    \"SK\" : \"Sengkang\",\n",
    "    \"TAP\" : \"Tampines\",\n",
    "    \"TG\" : \"Tengah\",\n",
    "    \"TP\" : \"Toa Payoh\",\n",
    "    \"WL\" : \"Woodlands\",\n",
    "    \"YS\" : \"Yishun\", \n",
    "}"
   ]
  },
  {
   "attachments": {},
   "cell_type": "markdown",
   "metadata": {},
   "source": [
    "# Analysis: Dataset 1 [Resale Price]"
   ]
  },
  {
   "cell_type": "code",
   "execution_count": null,
   "metadata": {},
   "outputs": [],
   "source": [
    "print(f\"There are {len(data_sale)} rows and {len(data_sale[0])} columns in this dataset.\\n\")\n",
    "print(f\"The names of the data are {data_sale.dtype.names}\\n\")\n",
    "print(f\"This dataset spans {len(np.unique(data_sale['month']))} over 7 years.\\n\")"
   ]
  }
 ],
 "metadata": {
  "kernelspec": {
   "display_name": "Python 3",
   "language": "python",
   "name": "python3"
  },
  "language_info": {
   "codemirror_mode": {
    "name": "ipython",
    "version": 3
   },
   "file_extension": ".py",
   "mimetype": "text/x-python",
   "name": "python",
   "nbconvert_exporter": "python",
   "pygments_lexer": "ipython3",
   "version": "3.10.0"
  },
  "orig_nbformat": 4
 },
 "nbformat": 4,
 "nbformat_minor": 2
}
