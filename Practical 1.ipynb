{
 "cells": [
  {
   "cell_type": "markdown",
   "metadata": {},
   "source": [
    "# **Practical 1**\n",
    "\n",
    "- Name: Bryan Lim Heng Yi\n",
    "- Admin No: P2204314\n",
    "- Diploma: Diploma in Computer Engineering\n",
    "- Class: DCPE/FT/2B/21\n",
    "- PDS Class: EL/03"
   ]
  },
  {
   "attachments": {},
   "cell_type": "markdown",
   "metadata": {},
   "source": [
    "Task 2-1\n"
   ]
  },
  {
   "cell_type": "code",
   "execution_count": null,
   "metadata": {},
   "outputs": [],
   "source": [
    "name = input(\"What is your name: \")\n",
    "print(\"Hello {}\".format(name))"
   ]
  },
  {
   "attachments": {},
   "cell_type": "markdown",
   "metadata": {},
   "source": [
    "Task 2-2\n"
   ]
  },
  {
   "cell_type": "code",
   "execution_count": null,
   "metadata": {},
   "outputs": [],
   "source": [
    "weight = float(input(\"Enter your weight: \"))\n",
    "height = float(input(\"Enter your height: \"))\n",
    "BMI = round(weight / (height * height), 2)\n",
    "print(\"Your BMI is: {}\".format(BMI))"
   ]
  },
  {
   "attachments": {},
   "cell_type": "markdown",
   "metadata": {},
   "source": [
    "Task 2-3\n",
    "\n"
   ]
  },
  {
   "cell_type": "code",
   "execution_count": null,
   "metadata": {},
   "outputs": [],
   "source": [
    "print(\"********************************************************\")\n",
    "print(\"Calculate the average electricity bill for last 6 months\")\n",
    "print(\"********************************************************\")\n",
    "bill1 = input(\"Enter bill #1:\")\n",
    "bill2 = input(\"Enter bill #2:\")\n",
    "bill3 = input(\"Enter bill #3:\")\n",
    "bill4 = input(\"Enter bill #4:\")\n",
    "bill5 = input(\"Enter bill #5:\")\n",
    "bill6 = input(\"Enter bill #6:\")\n",
    "avg = round((float(bill1)+float(bill2)+float(bill3)+float(bill4)+float(bill5)+float(bill6))/6,2)\n",
    "\n",
    "print('''Your electricity bills for the past 6 months are:\n",
    "${}, ${}, ${}, ${}, ${}, ${} \\n\n",
    "Your average electricity bill is ${}'''.format(bill1,bill2,bill3,bill4,bill5,bill6,avg))\n"
   ]
  },
  {
   "attachments": {},
   "cell_type": "markdown",
   "metadata": {},
   "source": [
    "Task 3-1\n"
   ]
  },
  {
   "cell_type": "code",
   "execution_count": null,
   "metadata": {},
   "outputs": [],
   "source": [
    "from time import sleep\n",
    "duration = int(input(\"Enter the number of seconds to count down: \"))\n",
    "print(\"Let's count down {} seconds now....\".format(duration))\n",
    "sleep(duration)\n",
    "print(\"Time is up!\")"
   ]
  },
  {
   "attachments": {},
   "cell_type": "markdown",
   "metadata": {},
   "source": [
    "Task 3-2\n"
   ]
  },
  {
   "cell_type": "code",
   "execution_count": null,
   "metadata": {},
   "outputs": [],
   "source": [
    "from time import time\n",
    "time_now = time()\n",
    "user_input = input(\"Timer starts now! Press any key as quickly as possible: \")\n",
    "time_entered = time()\n",
    "time_response = time_entered - time_now\n",
    "print(\"You took {} seconds to type {}\".format(time_entered, user_input))"
   ]
  },
  {
   "attachments": {},
   "cell_type": "markdown",
   "metadata": {},
   "source": [
    "Task 4-1\n"
   ]
  },
  {
   "cell_type": "code",
   "execution_count": null,
   "metadata": {},
   "outputs": [],
   "source": [
    "n1 = int(input(\"Enter number 1: \"))\n",
    "n2 = int(input(\"Enter number 2: \"))\n",
    "n3 = int(input(\"Enter number 3: \"))\n",
    "n4 = int(input(\"Enter number 4: \"))\n",
    "sum = n1 + n2 + n3 + n4\n",
    "difference = n1 - n4\n",
    "product = n2 * n3\n",
    "quotient = (n1 + n2) / (n3 + n4)\n",
    "remainder = (n1 * n2) % (n3 * n4)\n",
    "power = n1 ** n2\n",
    "print('''\n",
    "The four numbers are {}, {}, {}, {}\n",
    "Sum is {}\n",
    "Difference is {}\n",
    "Product is {}\n",
    "Quotient is {}\n",
    "Remainder is {}\n",
    "Power is {}\n",
    "'''.format(n1,n2,n3,n4,sum,difference,product,quotient,remainder,power))\n"
   ]
  },
  {
   "attachments": {},
   "cell_type": "markdown",
   "metadata": {},
   "source": [
    "Task 4-2\n"
   ]
  },
  {
   "cell_type": "code",
   "execution_count": null,
   "metadata": {},
   "outputs": [],
   "source": [
    "from math import *\n",
    "print('''\n",
    "************************************************************\n",
    "Mathematical calculations with Python\n",
    "************************************************************\n",
    "''')\n",
    "n1 = float(input(\"Enter number 1: \"))\n",
    "n2 = float(input(\"Enter number 2: \"))\n",
    "n3 = float(input(\"Enter number 3: \"))\n",
    "n4 = float(input(\"Enter number 4: \"))\n",
    "n1_squareroot = sqrt(n1)\n",
    "n2_times_pi = n2 * pi\n",
    "n3_powerof_n1 = n3 ** n1\n",
    "n4_factorial = factorial(int(n4))\n",
    "n4n3 = n4_factorial/n3\n",
    "n4n3_fraction , n4n3_integer = modf(n4n3) \n",
    "print('''\n",
    "The square root of {} is {}\n",
    "The ceiling value of n1_squareroot is {}\n",
    "\n",
    "{} times {} is {}\n",
    "The truncated value of n2_times_pi is {}\n",
    "\n",
    "{} to the power of {} is {}\n",
    "The floor value of n3_powerof_n1 is {}\n",
    "\n",
    "{} factorial is {}\n",
    "{} divided by {} is {}\n",
    "The fractional value of the result is {}\n",
    "The integer value of the result is {}\n",
    "'''.format(n1,n1_squareroot,ceil(n1_squareroot),n2,pi,n2_times_pi,trunc(n2_times_pi),n3,n1,n3_powerof_n1,floor(n3_powerof_n1),n4,n4_factorial,n4_factorial,n3,n4n3,n4n3_fraction,n4n3_integer))"
   ]
  },
  {
   "attachments": {},
   "cell_type": "markdown",
   "metadata": {},
   "source": [
    "Task 5-1\n",
    "\n"
   ]
  },
  {
   "cell_type": "code",
   "execution_count": null,
   "metadata": {},
   "outputs": [],
   "source": [
    "s1 = input(\"Enter string 1: \")\n",
    "s2 = input(\"Enter string 2: \")\n",
    "s3 = input(\"Enter string 3: \")\n",
    "\n",
    "print('''\n",
    "Length of string 1 {} is {}\n",
    "Length of string 2 {} is {}\n",
    "Length of string 3 {} is {}\n",
    "'''.format(s1,len(s1),s2,len(s2),s3,len(s3)))\n",
    "\n",
    "print(\"String 1 in all caps {}\".format(s1.upper()))\n",
    "\n",
    "if 'a' in s2:\n",
    "    print(\"The letter a is found in {} at index {}\".format(s2,s2.index('a')))\n",
    "else:\n",
    "    print(\"The letter a is not found in {}\".format(s2))\n",
    "\n",
    "print(\"The first two characters of {} is {}\".format(s3, s3[:2]))"
   ]
  },
  {
   "attachments": {},
   "cell_type": "markdown",
   "metadata": {},
   "source": [
    "Task 5-2\n"
   ]
  },
  {
   "cell_type": "code",
   "execution_count": null,
   "metadata": {},
   "outputs": [],
   "source": [
    "text = input(\"Enter 3 random strings, seperated by commas: \")\n",
    "s1,s2,s3 = text.split(\",\")\n",
    "\n",
    "print('''\n",
    "s1 is {}\n",
    "Length of {} is {}\n",
    "2nd and 3rd characters of {} is {}\n",
    "'''.format(s1,s1,len(s1),s1,s1[1:3]))\n",
    "\n",
    "print('''\n",
    "s2 is {}\n",
    "Length of {} is {}\n",
    "5th and 7th characters of {} is {}\n",
    "'''.format(s2,s2,len(s2),s2,s2[4:7]))\n",
    "\n",
    "print('''\n",
    "s3 is {}\n",
    "Length of {} is {}\n",
    "Last two characters of {} is {}\n",
    "'''.format(s3,s3,len(s3),s3,s3[-2:]))"
   ]
  },
  {
   "attachments": {},
   "cell_type": "markdown",
   "metadata": {},
   "source": [
    "Task 6-1\n"
   ]
  },
  {
   "cell_type": "code",
   "execution_count": null,
   "metadata": {},
   "outputs": [],
   "source": [
    "print('''\n",
    "************************************************************\n",
    "Section 6 - if-else statement\n",
    "************************************************************\n",
    "''')\n",
    "\n",
    "number = input(\"Enter a number: \")\n",
    "\n",
    "if number.isnumeric() :\n",
    "    if int(number) % 2 == 0:\n",
    "        print(\"{} is even\".format(number))\n",
    "    else:\n",
    "        print(\"{} is odd\".format(number))\n",
    "else:\n",
    "    print(\"You did not enter a number\")"
   ]
  },
  {
   "attachments": {},
   "cell_type": "markdown",
   "metadata": {},
   "source": [
    "Task 6-2\n"
   ]
  },
  {
   "cell_type": "code",
   "execution_count": null,
   "metadata": {},
   "outputs": [],
   "source": [
    "print('''\n",
    "Welcome to SPdonalds!\n",
    "Below is our Breakfast menu:\n",
    "1.SPMuffin ($5.00) 2.SPancakes ($3.00) 3.SPHashbrown ($1.50)\n",
    "''')\n",
    "\n",
    "order = int(input(\"Enter your choice of food: \"))\n",
    "\n",
    "if order not in range(1,4):\n",
    "    print(\"Sorry, you have enetered an invalid choice. Exiting program...\")\n",
    "elif order == 1:\n",
    "    print(\"SPMuffin $5.00 added!\")\n",
    "    quantity = int(input(\"How many SPMuffin do you want to order? \"))\n",
    "    print(\"The total cost for {} SPMuffin is ${:.2f}\".format(quantity,float(quantity*5)))\n",
    "elif order == 2:\n",
    "    print(\"SPancakes $3.00 added!\")\n",
    "    quantity = int(input(\"How many SPancakes do you want to order? \"))\n",
    "    print(\"The total cost for {} SPancakes is ${:.2f}\".format(quantity,float(quantity*3)))\n",
    "elif order == 3:\n",
    "    print(\"SPHashbrown $1.50 added!\")\n",
    "    quantity = int(input(\"How many SPHashbrown do you want to order? \"))\n",
    "    print(\"The total cost for {} SPHashbrown is ${:.2f}\".format(quantity,float(quantity*1.5)))\n"
   ]
  },
  {
   "attachments": {},
   "cell_type": "markdown",
   "metadata": {},
   "source": [
    "Task 7-1\n"
   ]
  },
  {
   "cell_type": "code",
   "execution_count": null,
   "metadata": {},
   "outputs": [],
   "source": [
    "msg = input(\"Enter the message you want to repeat: \")\n",
    "times = int(input(\"Enter the number of times you want to repeat this message: \"))\n",
    "for i in range (0,times):\n",
    "    print(msg)"
   ]
  },
  {
   "attachments": {},
   "cell_type": "markdown",
   "metadata": {},
   "source": [
    "Task 7-2\n"
   ]
  },
  {
   "cell_type": "code",
   "execution_count": null,
   "metadata": {},
   "outputs": [],
   "source": [
    "print('''\n",
    "This program prints the sum of a range of numbers from x to y.\n",
    "For example, if x is 10 and y is 50, the program will print the sum of numbers from\n",
    "10 to 50\n",
    "''')\n",
    "\n",
    "x = input(\"Please enter the value of x: \")\n",
    "y = input(\"Please enter the value of y: \")\n",
    "\n",
    "if x.isnumeric() == 0 or y.isnumeric() == 0:\n",
    "    print('''\n",
    "    One or more of your inputs are not numeric!\n",
    "    Unable to continue. Program terminated.\n",
    "    ''')\n",
    "elif int(x) <= 0 or int(y) <= 0:\n",
    "    print('''\n",
    "    One or more if your inputs are not greater than zero\n",
    "    Unable to continue. Program terminated.\n",
    "    ''')\n",
    "elif int(x) > int(y):\n",
    "    print('''\n",
    "    You did not enter a value of y that is greater than x\n",
    "    Unable to continue. Program terminated.\n",
    "    ''')\n",
    "else:\n",
    "    sum_of_numbers = 0\n",
    "    for i in range(int(x),int(y)+1):\n",
    "        sum_of_numbers += i\n",
    "    print(\"The sum of numbers between {} and {} is {}\".format(x,y,sum_of_numbers))"
   ]
  },
  {
   "attachments": {},
   "cell_type": "markdown",
   "metadata": {},
   "source": [
    "Task 8-1\n"
   ]
  },
  {
   "cell_type": "code",
   "execution_count": null,
   "metadata": {},
   "outputs": [],
   "source": [
    "from time import sleep\n",
    "seconds = int(input(\"Enter the number of seconds to count down: \"))\n",
    "\n",
    "while seconds > 0:\n",
    "    print(\"{} seconds till the timer expires\".format(seconds-1))\n",
    "    seconds -= 1\n",
    "    sleep(1)\n",
    "print(\"Time is up!\")"
   ]
  },
  {
   "attachments": {},
   "cell_type": "markdown",
   "metadata": {},
   "source": [
    "Task 8-2\n"
   ]
  },
  {
   "cell_type": "code",
   "execution_count": null,
   "metadata": {},
   "outputs": [],
   "source": [
    "from random import randint\n",
    "\n",
    "print('''\n",
    "This program will generate a random number between a lower and upper\n",
    "limit of your choice:\n",
    "''')\n",
    "lower = int(input(\"Enter the lower limit: \"))\n",
    "upper = int(input(\"Enter the upper limit: \"))\n",
    "\n",
    "number = randint(lower, upper)\n",
    "\n",
    "guess = int(input(\"Enter your guess ({} to {}): \").format(lower, upper))\n",
    "while guess != number:\n",
    "    if guess < number:\n",
    "        print(\"Too low\")\n",
    "    else:\n",
    "        print(\"Too high\")\n",
    "    guess = int(input(\"Enter your guess ({} to {}): \").format(lower, upper))\n",
    "print(\"You are right!\")"
   ]
  },
  {
   "attachments": {},
   "cell_type": "markdown",
   "metadata": {},
   "source": [
    "Task 9-1\n"
   ]
  },
  {
   "cell_type": "code",
   "execution_count": null,
   "metadata": {},
   "outputs": [],
   "source": [
    "aList = [1, 1, 2, 3, 5, 8, 13, 21, 34, 55, 89]\n",
    "\n",
    "print('''\n",
    "The list elements are {}\n",
    "Items less than 5 are'''.format(aList))\n",
    "\n",
    "for i in aList:\n",
    "    if i < 5:\n",
    "        print(i)"
   ]
  },
  {
   "attachments": {},
   "cell_type": "markdown",
   "metadata": {},
   "source": [
    "Task 9-2\n"
   ]
  },
  {
   "cell_type": "code",
   "execution_count": null,
   "metadata": {},
   "outputs": [],
   "source": [
    "numList = []\n",
    "\n",
    "for i in range(0,5):\n",
    "    num = int(input(\"Enter number {}\".format(i+1)))\n",
    "    numList.append(num)\n",
    "    \n",
    "\n",
    "print(\"Maximun of the numbers is {}\".format(max(numList)))\n",
    "print(\"Minimum of the numbers is {}\".format(min(numList)))\n",
    "print(\"The original list is {}\".format(numList))\n",
    "print(\"The sorted list in reverse order is {}\".format(list(reversed(numList))))"
   ]
  },
  {
   "attachments": {},
   "cell_type": "markdown",
   "metadata": {},
   "source": [
    "Task 9-3\n"
   ]
  },
  {
   "cell_type": "code",
   "execution_count": null,
   "metadata": {},
   "outputs": [],
   "source": [
    "list_1 = [300, 50, 80, 90, 199, 800, 74, 33]\n",
    "list_2 = ['Apple', 'Banana', 'Durian', 'Grapes', 'Papaya', 'Watermelon']\n",
    "list_3 = [0.0, 1.1, 2.2, 3.3, 4.4, 5.5, 6.6, 7.7, 8.8, 9.9]\n",
    "\n",
    "retrieve_list_1 = []\n",
    "for i in list_1:\n",
    "    if i == 33 or i == 74 or i == 800:\n",
    "        retrieve_list_1.append(i)\n",
    "\n",
    "retrieve_list_2 = list_2[-2:]\n",
    "\n",
    "retrieve_list_3 = list_3[1:-1]\n",
    "\n",
    "print(retrieve_list_1)\n",
    "print(retrieve_list_2)\n",
    "print(retrieve_list_3)"
   ]
  },
  {
   "attachments": {},
   "cell_type": "markdown",
   "metadata": {},
   "source": [
    "Task 10-1\n",
    "\n"
   ]
  },
  {
   "cell_type": "code",
   "execution_count": null,
   "metadata": {},
   "outputs": [],
   "source": [
    "def compare(input1, input2):\n",
    "    if input1 == input2:\n",
    "        result = \"It's a tie!\"\n",
    "    elif (input1 == \"paper\" and input2 == \"stone\") or (input1 == \"stone\" and input2 == \"paper\"):\n",
    "        result = \"Paper wins!\"\n",
    "    elif (input1 == \"stone\" and input2 == \"scissors\") or (input1 == \"scissors\" and input2 == \"stone\"):\n",
    "        result = \"Stone wins!\"\n",
    "    elif (input1 == \"scissors\" and input2 == \"paper\") or (input1 == \"paper\" and input2 == \"scissors\"):\n",
    "        result = \"Scissors wins!\"\n",
    "    return result\n",
    "\n",
    "choice = [\"scissors\", \"paper\", \"stone\"]\n",
    "\n",
    "name1 = input(\"Enter name of Player 1: \")\n",
    "name2 = input(\"Enter name of Player 2: \")\n",
    "\n",
    "i1 = input(\"{}: Please choose Scissors, Paper or Stone: \".format(name1)).lower()\n",
    "i2 = input(\"{}: Please choose Scissors, Paper or Stone: \".format(name2)).lower()\n",
    "\n",
    "while i1 != \"quit\" and i2 != \"quit\":\n",
    "    if i1 not in choice or i2 not in choice:\n",
    "        print(\"Invalid input! Please try again.\")\n",
    "    else:\n",
    "        print(compare(i1, i2))\n",
    "\n",
    "    i1 = input(\"{}: Please choose Scissors, Paper or Stone: \".format(name1)).lower()\n",
    "    i2 = input(\"{}: Please choose Scissors, Paper or Stone: \".format(name2)).lower()\n",
    "\n",
    "print(\"Quitting the program...\")"
   ]
  },
  {
   "attachments": {},
   "cell_type": "markdown",
   "metadata": {},
   "source": [
    "Task 10-2\n"
   ]
  },
  {
   "cell_type": "code",
   "execution_count": null,
   "metadata": {},
   "outputs": [],
   "source": [
    "from random import randint\n",
    "\n",
    "numbers = [randint(1,100) for x in range(0,20)]\n",
    "\n",
    "def oddandeven(numbers_list):\n",
    "    even_numbers = []\n",
    "    odd_numbers = []\n",
    "    for i in numbers_list:\n",
    "        if i % 2 == 0:\n",
    "            even_numbers.append(i)\n",
    "        else:\n",
    "            odd_numbers.append(i)\n",
    "    print('''\n",
    "    Original List: {}\n",
    "    Odd          : {}\n",
    "    Even         : {}\n",
    "    '''.format(numbers_list,odd_numbers,even_numbers))\n",
    "\n",
    "oddandeven(numbers)"
   ]
  }
 ],
 "metadata": {
  "language_info": {
   "name": "python"
  },
  "orig_nbformat": 4
 },
 "nbformat": 4,
 "nbformat_minor": 2
}
