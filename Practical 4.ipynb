{
 "cells": [
  {
   "attachments": {},
   "cell_type": "markdown",
   "metadata": {},
   "source": [
    "# Task 2A"
   ]
  },
  {
   "cell_type": "code",
   "execution_count": null,
   "metadata": {},
   "outputs": [],
   "source": [
    "import pandas as pd\n",
    "import numpy as np\n",
    "ser = pd.Series([1.0,3.0,5.0,np.nan,6.0,8.0])\n",
    "print(ser)\n"
   ]
  },
  {
   "attachments": {},
   "cell_type": "markdown",
   "metadata": {},
   "source": [
    "# Task 2B"
   ]
  },
  {
   "cell_type": "code",
   "execution_count": null,
   "metadata": {},
   "outputs": [],
   "source": [
    "import pandas as pd\n",
    "import numpy as np\n",
    "ser = pd.Series([1.0,3.0,5.0,np.nan,6.0,8.0], index=['a','b','c','d','e','f'])\n",
    "print(ser)"
   ]
  },
  {
   "attachments": {},
   "cell_type": "markdown",
   "metadata": {},
   "source": [
    "# Task 2C"
   ]
  },
  {
   "cell_type": "code",
   "execution_count": null,
   "metadata": {},
   "outputs": [],
   "source": [
    "import pandas as pd\n",
    "\n",
    "dic = {\n",
    "    \"Indonesia\" : \"Melati Putih\",\n",
    "    \"Malaysia\" : \"Hibiscus rosa-sinensis\",\n",
    "    \"Philippines\" : \"Sampaguita\",\n",
    "    \"Singapore\" : \"Vanda Miss Joaquim\" \n",
    "}\n",
    "\n",
    "ser = pd.Series(dic.values(), index=dic.keys())\n",
    "print(ser)\n"
   ]
  },
  {
   "attachments": {},
   "cell_type": "markdown",
   "metadata": {},
   "source": [
    "# Task 2D"
   ]
  },
  {
   "cell_type": "code",
   "execution_count": null,
   "metadata": {},
   "outputs": [],
   "source": [
    "import pandas as pd\n",
    "\n",
    "ser = pd.Series(pd.date_range('2017-10-01','2017-10-15',freq='D'),range(1,16))\n",
    "print(ser)"
   ]
  },
  {
   "attachments": {},
   "cell_type": "markdown",
   "metadata": {},
   "source": [
    "# Task 3A"
   ]
  },
  {
   "cell_type": "code",
   "execution_count": null,
   "metadata": {},
   "outputs": [],
   "source": [
    "import pandas as pd\n",
    "import numpy as np\n",
    "\n",
    "df = pd.DataFrame(np.random.randint(100,200,(5,5)))\n",
    "print(df)"
   ]
  },
  {
   "attachments": {},
   "cell_type": "markdown",
   "metadata": {},
   "source": [
    "# Task 3B"
   ]
  },
  {
   "cell_type": "code",
   "execution_count": null,
   "metadata": {},
   "outputs": [],
   "source": [
    "import pandas as pd\n",
    "import numpy as np\n",
    "\n",
    "row = ['Game 1', 'Game 2', 'Game 3', 'Game 4', 'Game 5']\n",
    "column = ['Team 1', 'Team 2', 'Team 3', 'Team 4', 'Team 5']\n",
    "\n",
    "df = pd.DataFrame(np.random.randint(100,200,(5,5)), index=row, columns=column)\n",
    "print(df)\n"
   ]
  },
  {
   "attachments": {},
   "cell_type": "markdown",
   "metadata": {},
   "source": [
    "# Task 3C"
   ]
  },
  {
   "cell_type": "code",
   "execution_count": null,
   "metadata": {},
   "outputs": [],
   "source": [
    "import pandas as pd\n",
    "\n",
    "uni_graduates = {\n",
    "2010:{'Females':6300,'Males':6496}, 2011:{'Females':7281,'Males':6428},\n",
    "2012:{'Females':7114,'Males':6736}, 2013:{'Females':8170,'Males':7785},\n",
    "2014:{'Females':7620,'Males':7756}\n",
    "}\n",
    "\n",
    "df = pd.DataFrame(uni_graduates, columns=uni_graduates.keys())\n",
    "print(df)"
   ]
  },
  {
   "attachments": {},
   "cell_type": "markdown",
   "metadata": {},
   "source": [
    "# Task 3D"
   ]
  },
  {
   "cell_type": "code",
   "execution_count": null,
   "metadata": {},
   "outputs": [],
   "source": [
    "import pandas as pd\n",
    "\n",
    "nus_median_gross_pay_2013to2015 = {\n",
    "'BA' : [3000,3000,3000],\n",
    "'BA (Honours)' : [3200,3520,3800],\n",
    "'BA (Accountancy)' : [2700,2838,2850],\n",
    "'BA (Accountancy) (Honours)' : [2800,2912,3000]\n",
    "}\n",
    "\n",
    "df = pd.DataFrame(nus_median_gross_pay_2013to2015, columns=nus_median_gross_pay_2013to2015.keys(), index=['2013', '2014', '2015'])\n",
    "print(df)"
   ]
  },
  {
   "attachments": {},
   "cell_type": "markdown",
   "metadata": {},
   "source": [
    "# Task 3E"
   ]
  },
  {
   "cell_type": "code",
   "execution_count": null,
   "metadata": {},
   "outputs": [],
   "source": [
    "import pandas as pd\n",
    "\n",
    "jan = pd.date_range('20170101', periods=31)\n",
    "mar = pd.date_range('20170301', periods=31)\n",
    "may = pd.date_range('20170501', periods=31)\n",
    "jul = pd.date_range('20170701', periods=31)\n",
    "aug = pd.date_range('20170801', periods=31)\n",
    "oct = pd.date_range('20171001', periods=31)\n",
    "dec = pd.date_range('20171201', periods=31)\n",
    "months = {'Jan':jan, 'Mar':mar, 'May':may, 'Jul':jul, 'Aug':aug, 'Oct':oct, 'Dec':dec}\n",
    "\n",
    "df = pd.DataFrame(months)\n",
    "print(df)"
   ]
  },
  {
   "cell_type": "code",
   "execution_count": null,
   "metadata": {},
   "outputs": [],
   "source": [
    "import numpy as np\n",
    "import pandas as pd\n",
    "\n",
    "npArray = np.random.randn(6,4)\n",
    "\n",
    "df = pd.DataFrame(npArray,columns=['A', 'B', 'C', 'D'], index=pd.date_range('2013-01-01','2013-01-06'))\n",
    "print(df)"
   ]
  },
  {
   "attachments": {},
   "cell_type": "markdown",
   "metadata": {},
   "source": [
    "# Task 4A - 1"
   ]
  },
  {
   "cell_type": "code",
   "execution_count": null,
   "metadata": {},
   "outputs": [],
   "source": [
    "import pandas as pd\n",
    "import numpy as np\n",
    "\n",
    "myseries = pd.Series(np.random.random(1000))\n",
    "mydf = pd.DataFrame(np.random.randint(10,100,1000))\n",
    "mydf[1] = 0\n",
    "mydf[2] = range(0,1000)\n",
    "\n",
    "\n",
    "print(myseries.shape)\n",
    "print(myseries.index)\n",
    "print(myseries.values)\n",
    "print(myseries.count())\n",
    "print(myseries.describe())"
   ]
  },
  {
   "attachments": {},
   "cell_type": "markdown",
   "metadata": {},
   "source": [
    "# Task 4A - 2"
   ]
  },
  {
   "cell_type": "code",
   "execution_count": null,
   "metadata": {},
   "outputs": [],
   "source": [
    "print(mydf.shape)\n",
    "print(mydf.index)\n",
    "print(mydf.values)\n",
    "print(mydf.count())\n",
    "print(mydf.describe())"
   ]
  },
  {
   "attachments": {},
   "cell_type": "markdown",
   "metadata": {},
   "source": [
    "# Task 4B - 1"
   ]
  },
  {
   "cell_type": "code",
   "execution_count": null,
   "metadata": {},
   "outputs": [],
   "source": [
    "print(f'''**sum of myseries**\n",
    "{myseries.sum()} \\n''')\n",
    "\n",
    "print(f'''**cumsum of myseries**\n",
    "{myseries.cumsum()} \\n''')"
   ]
  },
  {
   "attachments": {},
   "cell_type": "markdown",
   "metadata": {},
   "source": [
    "# Task 4B - 2"
   ]
  },
  {
   "cell_type": "code",
   "execution_count": null,
   "metadata": {},
   "outputs": [],
   "source": [
    "print(f'''**sum of mydf**\n",
    "{mydf.sum()} \\n''')\n",
    "\n",
    "print(f'''**cumsum of mydf**\n",
    "{mydf.cumsum()} \\n''')"
   ]
  }
 ],
 "metadata": {
  "kernelspec": {
   "display_name": "Python 3",
   "language": "python",
   "name": "python3"
  },
  "language_info": {
   "codemirror_mode": {
    "name": "ipython",
    "version": 3
   },
   "file_extension": ".py",
   "mimetype": "text/x-python",
   "name": "python",
   "nbconvert_exporter": "python",
   "pygments_lexer": "ipython3",
   "version": "3.10.0"
  },
  "orig_nbformat": 4
 },
 "nbformat": 4,
 "nbformat_minor": 2
}
