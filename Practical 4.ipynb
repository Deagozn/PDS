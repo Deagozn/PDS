{
 "cells": [
  {
   "attachments": {},
   "cell_type": "markdown",
   "metadata": {},
   "source": [
    "# Task 2A"
   ]
  },
  {
   "cell_type": "code",
   "execution_count": 3,
   "metadata": {},
   "outputs": [
    {
     "name": "stdout",
     "output_type": "stream",
     "text": [
      "0    1.0\n",
      "1    3.0\n",
      "2    5.0\n",
      "3    NaN\n",
      "4    6.0\n",
      "5    8.0\n",
      "dtype: float64\n"
     ]
    }
   ],
   "source": [
    "import pandas as pd\n",
    "import numpy as np\n",
    "ser = pd.Series([1.0,3.0,5.0,np.nan,6.0,8.0])\n",
    "print(ser)\n"
   ]
  },
  {
   "attachments": {},
   "cell_type": "markdown",
   "metadata": {},
   "source": [
    "# Task 2B"
   ]
  },
  {
   "cell_type": "code",
   "execution_count": 4,
   "metadata": {},
   "outputs": [
    {
     "name": "stdout",
     "output_type": "stream",
     "text": [
      "a    1.0\n",
      "b    3.0\n",
      "c    5.0\n",
      "d    NaN\n",
      "e    6.0\n",
      "f    8.0\n",
      "dtype: float64\n"
     ]
    }
   ],
   "source": [
    "import pandas as pd\n",
    "import numpy as np\n",
    "ser = pd.Series([1.0,3.0,5.0,np.nan,6.0,8.0], index=['a','b','c','d','e','f'])\n",
    "print(ser)"
   ]
  },
  {
   "attachments": {},
   "cell_type": "markdown",
   "metadata": {},
   "source": [
    "# Task 2C"
   ]
  },
  {
   "cell_type": "code",
   "execution_count": 6,
   "metadata": {},
   "outputs": [
    {
     "name": "stdout",
     "output_type": "stream",
     "text": [
      "Indonesia                Melati Putih\n",
      "Malaysia       Hibiscus rosa-sinensis\n",
      "Philippines                Sampaguita\n",
      "Singapore          Vanda Miss Joaquim\n",
      "dtype: object\n"
     ]
    }
   ],
   "source": [
    "import pandas as pd\n",
    "\n",
    "dic = {\n",
    "    \"Indonesia\" : \"Melati Putih\",\n",
    "    \"Malaysia\" : \"Hibiscus rosa-sinensis\",\n",
    "    \"Philippines\" : \"Sampaguita\",\n",
    "    \"Singapore\" : \"Vanda Miss Joaquim\" \n",
    "}\n",
    "\n",
    "ser = pd.Series(dic.values(), index=dic.keys())\n",
    "print(ser)\n"
   ]
  },
  {
   "attachments": {},
   "cell_type": "markdown",
   "metadata": {},
   "source": [
    "# Task 2D"
   ]
  },
  {
   "cell_type": "code",
   "execution_count": 8,
   "metadata": {},
   "outputs": [
    {
     "name": "stdout",
     "output_type": "stream",
     "text": [
      "1    2017-10-01\n",
      "2    2017-10-02\n",
      "3    2017-10-03\n",
      "4    2017-10-04\n",
      "5    2017-10-05\n",
      "6    2017-10-06\n",
      "7    2017-10-07\n",
      "8    2017-10-08\n",
      "9    2017-10-09\n",
      "10   2017-10-10\n",
      "11   2017-10-11\n",
      "12   2017-10-12\n",
      "13   2017-10-13\n",
      "14   2017-10-14\n",
      "15   2017-10-15\n",
      "dtype: datetime64[ns]\n"
     ]
    }
   ],
   "source": [
    "import pandas as pd\n",
    "\n",
    "ser = pd.Series(pd.date_range('2017-10-01','2017-10-15',freq='D'),range(1,16))\n",
    "print(ser)"
   ]
  },
  {
   "attachments": {},
   "cell_type": "markdown",
   "metadata": {},
   "source": [
    "# Task 3A"
   ]
  },
  {
   "cell_type": "code",
   "execution_count": 10,
   "metadata": {},
   "outputs": [
    {
     "name": "stdout",
     "output_type": "stream",
     "text": [
      "     0    1    2    3    4\n",
      "0  199  173  136  158  106\n",
      "1  150  132  135  150  191\n",
      "2  185  166  164  192  187\n",
      "3  129  144  160  190  133\n",
      "4  166  165  100  160  144\n"
     ]
    }
   ],
   "source": [
    "import pandas as pd\n",
    "import numpy as np\n",
    "\n",
    "df = pd.DataFrame(np.random.randint(100,200,(5,5)))\n",
    "print(df)"
   ]
  },
  {
   "attachments": {},
   "cell_type": "markdown",
   "metadata": {},
   "source": [
    "# Task 3B"
   ]
  },
  {
   "cell_type": "code",
   "execution_count": 11,
   "metadata": {},
   "outputs": [
    {
     "name": "stdout",
     "output_type": "stream",
     "text": [
      "        Team 1  Team 2  Team 3  Team 4  Team 5\n",
      "Game 1     191     111     125     120     125\n",
      "Game 2     194     148     189     167     163\n",
      "Game 3     182     133     152     127     199\n",
      "Game 4     197     126     129     181     162\n",
      "Game 5     188     105     178     171     151\n"
     ]
    }
   ],
   "source": [
    "import pandas as pd\n",
    "import numpy as np\n",
    "\n",
    "row = ['Game 1', 'Game 2', 'Game 3', 'Game 4', 'Game 5']\n",
    "column = ['Team 1', 'Team 2', 'Team 3', 'Team 4', 'Team 5']\n",
    "\n",
    "df = pd.DataFrame(np.random.randint(100,200,(5,5)), index=row, columns=column)\n",
    "print(df)\n"
   ]
  },
  {
   "attachments": {},
   "cell_type": "markdown",
   "metadata": {},
   "source": [
    "# Task 3C"
   ]
  },
  {
   "cell_type": "code",
   "execution_count": 18,
   "metadata": {},
   "outputs": [
    {
     "name": "stdout",
     "output_type": "stream",
     "text": [
      "         2010  2011  2012  2013  2014\n",
      "Females  6300  7281  7114  8170  7620\n",
      "Males    6496  6428  6736  7785  7756\n"
     ]
    }
   ],
   "source": [
    "import pandas as pd\n",
    "\n",
    "uni_graduates = {\n",
    "2010:{'Females':6300,'Males':6496}, 2011:{'Females':7281,'Males':6428},\n",
    "2012:{'Females':7114,'Males':6736}, 2013:{'Females':8170,'Males':7785},\n",
    "2014:{'Females':7620,'Males':7756}\n",
    "}\n",
    "\n",
    "df = pd.DataFrame(uni_graduates, columns=uni_graduates.keys())\n",
    "print(df)"
   ]
  },
  {
   "attachments": {},
   "cell_type": "markdown",
   "metadata": {},
   "source": [
    "# Task 3D"
   ]
  },
  {
   "cell_type": "code",
   "execution_count": 22,
   "metadata": {},
   "outputs": [
    {
     "name": "stdout",
     "output_type": "stream",
     "text": [
      "        BA  BA (Honours)  BA (Accountancy)  BA (Accountancy) (Honours)\n",
      "2013  3000          3200              2700                        2800\n",
      "2014  3000          3520              2838                        2912\n",
      "2015  3000          3800              2850                        3000\n"
     ]
    }
   ],
   "source": [
    "import pandas as pd\n",
    "\n",
    "nus_median_gross_pay_2013to2015 = {\n",
    "'BA' : [3000,3000,3000],\n",
    "'BA (Honours)' : [3200,3520,3800],\n",
    "'BA (Accountancy)' : [2700,2838,2850],\n",
    "'BA (Accountancy) (Honours)' : [2800,2912,3000]\n",
    "}\n",
    "\n",
    "df = pd.DataFrame(nus_median_gross_pay_2013to2015, columns=nus_median_gross_pay_2013to2015.keys(), index=['2013', '2014', '2015'])\n",
    "print(df)"
   ]
  },
  {
   "attachments": {},
   "cell_type": "markdown",
   "metadata": {},
   "source": [
    "# Task 3E"
   ]
  },
  {
   "cell_type": "code",
   "execution_count": 26,
   "metadata": {},
   "outputs": [
    {
     "name": "stdout",
     "output_type": "stream",
     "text": [
      "          Jan        Mar        May        Jul        Aug        Oct  \\\n",
      "0  2017-01-01 2017-03-01 2017-05-01 2017-07-01 2017-08-01 2017-10-01   \n",
      "1  2017-01-02 2017-03-02 2017-05-02 2017-07-02 2017-08-02 2017-10-02   \n",
      "2  2017-01-03 2017-03-03 2017-05-03 2017-07-03 2017-08-03 2017-10-03   \n",
      "3  2017-01-04 2017-03-04 2017-05-04 2017-07-04 2017-08-04 2017-10-04   \n",
      "4  2017-01-05 2017-03-05 2017-05-05 2017-07-05 2017-08-05 2017-10-05   \n",
      "5  2017-01-06 2017-03-06 2017-05-06 2017-07-06 2017-08-06 2017-10-06   \n",
      "6  2017-01-07 2017-03-07 2017-05-07 2017-07-07 2017-08-07 2017-10-07   \n",
      "7  2017-01-08 2017-03-08 2017-05-08 2017-07-08 2017-08-08 2017-10-08   \n",
      "8  2017-01-09 2017-03-09 2017-05-09 2017-07-09 2017-08-09 2017-10-09   \n",
      "9  2017-01-10 2017-03-10 2017-05-10 2017-07-10 2017-08-10 2017-10-10   \n",
      "10 2017-01-11 2017-03-11 2017-05-11 2017-07-11 2017-08-11 2017-10-11   \n",
      "11 2017-01-12 2017-03-12 2017-05-12 2017-07-12 2017-08-12 2017-10-12   \n",
      "12 2017-01-13 2017-03-13 2017-05-13 2017-07-13 2017-08-13 2017-10-13   \n",
      "13 2017-01-14 2017-03-14 2017-05-14 2017-07-14 2017-08-14 2017-10-14   \n",
      "14 2017-01-15 2017-03-15 2017-05-15 2017-07-15 2017-08-15 2017-10-15   \n",
      "15 2017-01-16 2017-03-16 2017-05-16 2017-07-16 2017-08-16 2017-10-16   \n",
      "16 2017-01-17 2017-03-17 2017-05-17 2017-07-17 2017-08-17 2017-10-17   \n",
      "17 2017-01-18 2017-03-18 2017-05-18 2017-07-18 2017-08-18 2017-10-18   \n",
      "18 2017-01-19 2017-03-19 2017-05-19 2017-07-19 2017-08-19 2017-10-19   \n",
      "19 2017-01-20 2017-03-20 2017-05-20 2017-07-20 2017-08-20 2017-10-20   \n",
      "20 2017-01-21 2017-03-21 2017-05-21 2017-07-21 2017-08-21 2017-10-21   \n",
      "21 2017-01-22 2017-03-22 2017-05-22 2017-07-22 2017-08-22 2017-10-22   \n",
      "22 2017-01-23 2017-03-23 2017-05-23 2017-07-23 2017-08-23 2017-10-23   \n",
      "23 2017-01-24 2017-03-24 2017-05-24 2017-07-24 2017-08-24 2017-10-24   \n",
      "24 2017-01-25 2017-03-25 2017-05-25 2017-07-25 2017-08-25 2017-10-25   \n",
      "25 2017-01-26 2017-03-26 2017-05-26 2017-07-26 2017-08-26 2017-10-26   \n",
      "26 2017-01-27 2017-03-27 2017-05-27 2017-07-27 2017-08-27 2017-10-27   \n",
      "27 2017-01-28 2017-03-28 2017-05-28 2017-07-28 2017-08-28 2017-10-28   \n",
      "28 2017-01-29 2017-03-29 2017-05-29 2017-07-29 2017-08-29 2017-10-29   \n",
      "29 2017-01-30 2017-03-30 2017-05-30 2017-07-30 2017-08-30 2017-10-30   \n",
      "30 2017-01-31 2017-03-31 2017-05-31 2017-07-31 2017-08-31 2017-10-31   \n",
      "\n",
      "          Dec  \n",
      "0  2017-12-01  \n",
      "1  2017-12-02  \n",
      "2  2017-12-03  \n",
      "3  2017-12-04  \n",
      "4  2017-12-05  \n",
      "5  2017-12-06  \n",
      "6  2017-12-07  \n",
      "7  2017-12-08  \n",
      "8  2017-12-09  \n",
      "9  2017-12-10  \n",
      "10 2017-12-11  \n",
      "11 2017-12-12  \n",
      "12 2017-12-13  \n",
      "13 2017-12-14  \n",
      "14 2017-12-15  \n",
      "15 2017-12-16  \n",
      "16 2017-12-17  \n",
      "17 2017-12-18  \n",
      "18 2017-12-19  \n",
      "19 2017-12-20  \n",
      "20 2017-12-21  \n",
      "21 2017-12-22  \n",
      "22 2017-12-23  \n",
      "23 2017-12-24  \n",
      "24 2017-12-25  \n",
      "25 2017-12-26  \n",
      "26 2017-12-27  \n",
      "27 2017-12-28  \n",
      "28 2017-12-29  \n",
      "29 2017-12-30  \n",
      "30 2017-12-31  \n"
     ]
    }
   ],
   "source": [
    "import pandas as pd\n",
    "\n",
    "jan = pd.date_range('20170101', periods=31)\n",
    "mar = pd.date_range('20170301', periods=31)\n",
    "may = pd.date_range('20170501', periods=31)\n",
    "jul = pd.date_range('20170701', periods=31)\n",
    "aug = pd.date_range('20170801', periods=31)\n",
    "oct = pd.date_range('20171001', periods=31)\n",
    "dec = pd.date_range('20171201', periods=31)\n",
    "months = {'Jan':jan, 'Mar':mar, 'May':may, 'Jul':jul, 'Aug':aug, 'Oct':oct, 'Dec':dec}\n",
    "\n",
    "df = pd.DataFrame(months)\n",
    "print(df)"
   ]
  },
  {
   "cell_type": "code",
   "execution_count": 28,
   "metadata": {},
   "outputs": [
    {
     "name": "stdout",
     "output_type": "stream",
     "text": [
      "                   A         B         C         D\n",
      "2013-01-01 -0.170233 -1.560734 -1.535000 -1.522033\n",
      "2013-01-02  0.905917 -0.631030 -1.155660 -0.223446\n",
      "2013-01-03  1.158559  1.564653  0.192320 -1.335834\n",
      "2013-01-04  0.889499  0.455987  0.376146 -0.679220\n",
      "2013-01-05  1.713979 -0.845252  0.285845 -0.063955\n",
      "2013-01-06  0.716182  0.294536 -0.922050  1.162889\n"
     ]
    }
   ],
   "source": [
    "import numpy as np\n",
    "import pandas as pd\n",
    "\n",
    "npArray = np.random.randn(6,4)\n",
    "\n",
    "df = pd.DataFrame(npArray,columns=['A', 'B', 'C', 'D'], index=pd.date_range('2013-01-01','2013-01-06'))\n",
    "print(df)"
   ]
  }
 ],
 "metadata": {
  "kernelspec": {
   "display_name": "Python 3",
   "language": "python",
   "name": "python3"
  },
  "language_info": {
   "codemirror_mode": {
    "name": "ipython",
    "version": 3
   },
   "file_extension": ".py",
   "mimetype": "text/x-python",
   "name": "python",
   "nbconvert_exporter": "python",
   "pygments_lexer": "ipython3",
   "version": "3.10.6"
  },
  "orig_nbformat": 4
 },
 "nbformat": 4,
 "nbformat_minor": 2
}
