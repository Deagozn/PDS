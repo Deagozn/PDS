{
 "cells": [
  {
   "attachments": {},
   "cell_type": "markdown",
   "metadata": {},
   "source": [
    "Task 3-1\n"
   ]
  },
  {
   "cell_type": "code",
   "execution_count": null,
   "metadata": {},
   "outputs": [],
   "source": [
    "from numpy import array, append\n",
    "from random import uniform\n",
    "\n",
    "#Part (a)\n",
    "numbers = array([0,1,2,3,4,5,6,7])\n",
    "print(numbers, \"\\n\")\n",
    "\n",
    "#Part (b)\n",
    "names = array(['Mary','John','Peter','Christine'])\n",
    "print(names, \"\\n\")\n",
    "\n",
    "#part (c)\n",
    "dates = array([])\n",
    "for i in range(1,32):\n",
    "    dates = append(dates,[f'2017-10-{i:02d}'])\n",
    "print(dates, \"\\n\")\n",
    "\n",
    "#Part (d)\n",
    "randnum = array([])\n",
    "for n in range(10):\n",
    "    randnum = append(randnum,uniform(0,1))\n",
    "print(randnum)"
   ]
  },
  {
   "attachments": {},
   "cell_type": "markdown",
   "metadata": {},
   "source": [
    "Task 3-2\n"
   ]
  },
  {
   "cell_type": "code",
   "execution_count": null,
   "metadata": {},
   "outputs": [],
   "source": [
    "from numpy import array, full, empty\n",
    "from random import uniform\n",
    "\n",
    "#Part (a)\n",
    "twoByFour = array([[1,2,3,4],[5,6,7,8]])\n",
    "print(twoByFour, \"\\n\")\n",
    "\n",
    "#Part (b)\n",
    "threeByThree = array([[1.6,1.7,1.8],[2.5,5.0,7.5],[20,40,60]])\n",
    "print(threeByThree, \"\\n\")\n",
    "\n",
    "#Part (c)\n",
    "threeByFour_0 = full((3,4),0)\n",
    "print(threeByFour_0, \"\\n\")\n",
    "\n",
    "#Part (d)\n",
    "fourByThree_105 = full((4,3),10.5)\n",
    "print(fourByThree_105, \"\\n\")\n",
    "\n",
    "#Part (e)\n",
    "fourByEight_random = empty((4,8))\n",
    "for x in range(4):\n",
    "    for y in range(8):\n",
    "        fourByEight_random[x,y] = uniform(1,6)\n",
    "print(fourByEight_random)\n"
   ]
  },
  {
   "attachments": {},
   "cell_type": "markdown",
   "metadata": {},
   "source": [
    "Task 4-1\n"
   ]
  },
  {
   "cell_type": "code",
   "execution_count": null,
   "metadata": {},
   "outputs": [],
   "source": [
    "from numpy import array, shape, ndim, size\n",
    "\n",
    "arr1 = array([1.55,1.73,1.9,1.72,1.66,1.8])\n",
    "\n",
    "arr2 = array([['red','green','yellow','blue'],[True,False,False,True],['2017-10-01','2017-11-11','2017-12-23','2018-03-31']])\n",
    "\n",
    "arr3 = array([[[10,9,8,7],[6,5,4,3]],[[1,2,3,4],[5,6,7,8]]])\n",
    "\n",
    "#Array 1\n",
    "print(\"Array 1:\")\n",
    "print(f\"Shape = {shape(arr1)}\")\n",
    "print(f\"Ndim = {ndim(arr1)}\")\n",
    "print(f\"Size = {size(arr1)}\")\n",
    "print(f\"Len = {len(arr1)} \\n\")\n",
    "\n",
    "#Array 2\n",
    "print(\"Array 2:\")\n",
    "print(f\"Shape = {shape(arr2)}\")\n",
    "print(f\"Ndim = {ndim(arr2)}\")\n",
    "print(f\"Size = {size(arr2)}\")\n",
    "print(f\"Len = {len(arr2)} \\n\")\n",
    "\n",
    "#Array 3\n",
    "print(\"Array 3:\")\n",
    "print(f\"Shape = {shape(arr3)}\")\n",
    "print(f\"Ndim = {ndim(arr3)}\")\n",
    "print(f\"Size = {size(arr3)}\")\n",
    "print(f\"Len = {len(arr3)} \\n\")"
   ]
  },
  {
   "attachments": {},
   "cell_type": "markdown",
   "metadata": {},
   "source": [
    "Task 4-2\n"
   ]
  },
  {
   "cell_type": "code",
   "execution_count": null,
   "metadata": {},
   "outputs": [],
   "source": [
    "from numpy import dtype\n",
    "\n",
    "print(\"Array 1\")\n",
    "print(type(arr1))\n",
    "print(arr1.dtype, \"\\n\")\n",
    "\n",
    "print(\"Array 2\")\n",
    "print(type(arr2))\n",
    "print(arr2.dtype, \"\\n\")\n",
    "\n",
    "\n",
    "print(\"Array 3\")\n",
    "print(type(arr3))\n",
    "print(arr3.dtype)"
   ]
  },
  {
   "attachments": {},
   "cell_type": "markdown",
   "metadata": {},
   "source": [
    "Task 5-1\n"
   ]
  },
  {
   "cell_type": "code",
   "execution_count": null,
   "metadata": {},
   "outputs": [],
   "source": [
    "from numpy import array\n",
    "\n",
    "a = array([ ['Mary', 'John','Bob'],\n",
    "['Zoe', 'Chris','Ann'],\n",
    "['Leon', 'Kathy','Sam']])\n",
    "\n",
    "print(a.flatten())"
   ]
  },
  {
   "attachments": {},
   "cell_type": "markdown",
   "metadata": {},
   "source": [
    "Task 5-2\n"
   ]
  },
  {
   "cell_type": "code",
   "execution_count": null,
   "metadata": {},
   "outputs": [],
   "source": [
    "from numpy import array, arange\n",
    "\n",
    "#Part (a)\n",
    "a = arange(15,30)\n",
    "print(a.reshape(3,5), \"\\n\")\n",
    "\n",
    "#Part (b)\n",
    "b = array([ [1,2,3,4,5,6], [7,8,9,10,11,12]])\n",
    "print(b.reshape(3,4))"
   ]
  },
  {
   "attachments": {},
   "cell_type": "markdown",
   "metadata": {},
   "source": [
    "Task 5-3\n"
   ]
  },
  {
   "cell_type": "code",
   "execution_count": null,
   "metadata": {},
   "outputs": [],
   "source": [
    "from numpy import array\n",
    "\n",
    "a = array([ [1,2,3,4,5,6], [7,8,9,10,11,12]])\n",
    "\n",
    "print(a.transpose())"
   ]
  },
  {
   "attachments": {},
   "cell_type": "markdown",
   "metadata": {},
   "source": [
    "Task 6-1\n"
   ]
  },
  {
   "cell_type": "code",
   "execution_count": null,
   "metadata": {},
   "outputs": [],
   "source": [
    "from numpy import array, vstack, hstack\n",
    "\n",
    "a = array([[ 1,2,3],[ 4,5,6],[7,8,9]])\n",
    "b = full((3,3),1.5)\n",
    "c = arange(0,15).reshape(5,3)\n",
    "\n",
    "#Part (a)\n",
    "print(\"Concatenate Vertically:\")\n",
    "print(vstack(a), \"\\n\")\n",
    "print(vstack(b), \"\\n\")\n",
    "print(vstack(c), \"\\n\")\n",
    "\n",
    "#Part (b)\n",
    "print(\"Concatenate Horizontally:\")\n",
    "print(hstack(a), \"\\n\")\n",
    "print(hstack(b), \"\\n\")\n",
    "print(hstack(c), \"\\n\")\n"
   ]
  },
  {
   "attachments": {},
   "cell_type": "markdown",
   "metadata": {},
   "source": [
    "Task 6-2\n"
   ]
  },
  {
   "cell_type": "code",
   "execution_count": null,
   "metadata": {},
   "outputs": [],
   "source": [
    "from numpy import arange, split\n",
    "\n",
    "x = arange(100)\n",
    "\n",
    "#Part (a)\n",
    "print(split(x,20), \"\\n\")\n",
    "\n",
    "#Part (b)\n",
    "s = [10,25,45,75,95]\n",
    "print(split(x, s))"
   ]
  },
  {
   "attachments": {},
   "cell_type": "markdown",
   "metadata": {},
   "source": [
    "Task 7-1\n"
   ]
  },
  {
   "cell_type": "code",
   "execution_count": null,
   "metadata": {},
   "outputs": [],
   "source": [
    "from numpy import copy, array\n",
    "\n",
    "#Part (a)\n",
    "x = array([1, 2, 3])\n",
    "y = x\n",
    "z = copy(x)\n",
    "print(x,y,z)\n",
    "\n",
    "# Question: What is the difference between y and z?\n",
    "# Answer: y will change when x is changed but z will not be changed\n",
    "\n",
    "#Part (b)\n",
    "x = array([1,2,3])\n",
    "y=x\n",
    "z = copy(x)\n",
    "x[0] = 10\n",
    "print(x,y,z)\n",
    "\n",
    "# Question: What is the value of x, y and z after executing Line 4?\n",
    "# Answer: x = [10,2,3] ; y = [10,2,3] ; z = [1,2,3]\n"
   ]
  },
  {
   "attachments": {},
   "cell_type": "markdown",
   "metadata": {},
   "source": [
    "Task 8-1\n"
   ]
  },
  {
   "cell_type": "code",
   "execution_count": null,
   "metadata": {},
   "outputs": [],
   "source": [
    "from numpy import random, sort\n",
    "\n",
    "#Part (a)\n",
    "arr_1 = random.randint(100,200,10)\n",
    "print(f'''\n",
    "part(a):\n",
    "\n",
    "**before sorting**\n",
    "{arr_1}\n",
    "\n",
    "**After sorting**\n",
    "{sort(arr_1)}\n",
    "''')\n",
    "\n",
    "#Part (b)\n",
    "arr_2 = random.randint(1,20,(3,5))\n",
    "print(f'''\n",
    "Part (b):\n",
    "\n",
    "**before sorting**\n",
    "{arr_2}\n",
    "\n",
    "**After sorting**\n",
    "{sort(arr_2,0)}\n",
    "''')\n",
    "\n",
    "#Part (c)\n",
    "arr_3 = random.randint(100,200,(2,5))\n",
    "arr_sorted = copy(arr_3)\n",
    "arr_sorted = sort(arr_sorted,1)\n",
    "print(f'''\n",
    "Part (c):\n",
    "\n",
    "**Before sorting - original array**\n",
    "{arr_3}\n",
    "\n",
    "**After calling sort method - original array**\n",
    "{arr_3}\n",
    "\n",
    "**After calling sort method - copy of sorted array**\n",
    "{arr_sorted}\n",
    "''')"
   ]
  },
  {
   "attachments": {},
   "cell_type": "markdown",
   "metadata": {},
   "source": [
    "Task 9-1\n"
   ]
  },
  {
   "cell_type": "code",
   "execution_count": null,
   "metadata": {},
   "outputs": [],
   "source": [
    "from numpy import array, arange\n",
    "\n",
    "a = arange(1,100,1)\n",
    "b = array([[1,2,3,4], [100,200,300,400], [5,6,7,8], [9,10,11,12] ])\n",
    "\n",
    "#Part (a)\n",
    "print(\"Part (a)\")\n",
    "print(a[3].dtype)\n",
    "print(b[3].dtype,\"\\n\")\n",
    "\n",
    "#Part (b)\n",
    "print(\"Part (b)\")\n",
    "print(b[1])\n",
    "print(b[2],\"\\n\")\n",
    "\n",
    "#Part (c)\n",
    "print(\"Part (c)\")\n",
    "print(b[:,-1],\"\\n\")\n",
    "\n",
    "#Part (d)\n",
    "print(\"Part (d)\")\n"
   ]
  },
  {
   "attachments": {},
   "cell_type": "markdown",
   "metadata": {},
   "source": [
    "Task 9-2\n"
   ]
  },
  {
   "cell_type": "code",
   "execution_count": null,
   "metadata": {},
   "outputs": [],
   "source": [
    "from numpy import array, arange, random\n",
    "\n",
    "a = array((arange(0,10), arange(10,20), arange(20,30), arange(30,40)))\n",
    "b = random.randint(100,200,(3,3))\n",
    "\n",
    "#Part (a)\n",
    "print(\"Part (a):\")\n",
    "print(a[a%2 == 0])\n",
    "\n",
    "#Part (b)\n",
    "print(\"Part (b):\")\n",
    "print(b[b>150])"
   ]
  },
  {
   "attachments": {},
   "cell_type": "markdown",
   "metadata": {},
   "source": [
    "Task 9-3\n"
   ]
  },
  {
   "cell_type": "code",
   "execution_count": null,
   "metadata": {},
   "outputs": [],
   "source": [
    "from numpy import arange, where\n",
    "\n",
    "b = arange(9.).reshape(3, 3)\n",
    "b5 = where( b > 5 )\n",
    "\n",
    "print(f'''\n",
    "*** Values of where the elements are, and their rows/columns ***\n",
    "Value: {int(b[b5[0][0],b5[1][0]])} in row {b5[0][0]}, column {b5[1][0]}\n",
    "Value: {int(b[b5[0][1],b5[1][1]])} in row {b5[0][1]}, column {b5[1][1]}\n",
    "Value: {int(b[b5[0][2],b5[1][2]])} in row {b5[0][2]}, column {b5[1][2]}\n",
    "''')"
   ]
  },
  {
   "attachments": {},
   "cell_type": "markdown",
   "metadata": {},
   "source": [
    "Task 10-1\n"
   ]
  },
  {
   "cell_type": "code",
   "execution_count": null,
   "metadata": {},
   "outputs": [],
   "source": [
    "from numpy import arange, array, random\n",
    "\n",
    "a = arange(100,200,1).reshape(20,5)\n",
    "b = arange(1,2000,20).reshape(10,10)\n",
    "c = array([ [1,2,3], [4,5,6]])\n",
    "\n",
    "#Part (a)\n",
    "#print(a+b)\n",
    "\n",
    "# Question: What happens when you try to perform the following operations on array a and array b?\n",
    "# Answer: There is an error\n",
    "\n",
    "#Part (b)\n",
    "a2 = random.randint(0,100,(20,5))\n",
    "print(\"Part (b)\")\n",
    "print(a+a2)\n",
    "\n",
    "#Part (c)\n"
   ]
  }
 ],
 "metadata": {
  "kernelspec": {
   "display_name": "Python 3",
   "language": "python",
   "name": "python3"
  },
  "language_info": {
   "codemirror_mode": {
    "name": "ipython",
    "version": 3
   },
   "file_extension": ".py",
   "mimetype": "text/x-python",
   "name": "python",
   "nbconvert_exporter": "python",
   "pygments_lexer": "ipython3",
   "version": "3.10.0"
  },
  "orig_nbformat": 4
 },
 "nbformat": 4,
 "nbformat_minor": 2
}
